{
 "cells": [
  {
   "cell_type": "markdown",
   "id": "c0fb917a",
   "metadata": {},
   "source": [
    "# 跟著在lab1的指示重新做一次!"
   ]
  },
  {
   "cell_type": "code",
   "execution_count": null,
   "id": "b4b23ad5",
   "metadata": {},
   "outputs": [],
   "source": []
  }
 ],
 "metadata": {
  "kernelspec": {
   "display_name": "Python 3",
   "language": "python",
   "name": "python3"
  },
  "language_info": {
   "codemirror_mode": {
    "name": "ipython",
    "version": 3
   },
   "file_extension": ".py",
   "mimetype": "text/x-python",
   "name": "python",
   "nbconvert_exporter": "python",
   "pygments_lexer": "ipython3",
   "version": "3.8.8"
  }
 },
 "nbformat": 4,
 "nbformat_minor": 5
}
